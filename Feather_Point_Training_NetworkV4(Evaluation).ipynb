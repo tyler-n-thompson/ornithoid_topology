{
 "cells": [
  {
   "cell_type": "code",
   "execution_count": 1,
   "metadata": {},
   "outputs": [],
   "source": [
    "import pandas as pd\n",
    "from torch.utils.data import Dataset, DataLoader\n",
    "import os\n",
    "from skimage import io,transform\n",
    "from torchvision import transforms,utils\n",
    "import numpy as np\n",
    "import torch\n",
    "\n",
    "#Edit the input data to be one large matrix, and then append a y for input#\n",
    "#####Prepare the Training Data from the Numpy Arrays#####\n",
    "#load the feather data#\n",
    "feather_file=np.load('20191005_FEATHER_Training_Points1.npy')\n",
    "#load the non-feather points#\n",
    "non_feather_file=np.load('20191005_NONFEATHER_Training_Points1.npy')\n",
    "#now go in and get the shapes of them#\n",
    "total_training_points=np.shape(feather_file)[0]+np.shape(non_feather_file)[0]\n",
    "training_data=np.zeros([total_training_points,3,50])\n",
    "training_data[0:np.shape(feather_file)[0],:,:]=feather_file\n",
    "training_data[np.shape(feather_file)[0]:total_training_points,:,:]=non_feather_file\n",
    "#create the labels vector#\n",
    "pos_labs=np.ones([np.shape(feather_file)[0],1])\n",
    "neg_labs=np.zeros([np.shape(non_feather_file)[0],1])\n",
    "#concatenate them#\n",
    "label_vector=np.concatenate((np.squeeze(pos_labs),np.squeeze(neg_labs)),axis=0)\n",
    "\n",
    "\n",
    "#####Prepare the Testing Data from the Numpy Arrays#####\n",
    "#load the feather data#\n",
    "test_feather_file=np.load('20191005_FEATHER_Training_Points1.npy')\n",
    "#load the non-feather points#\n",
    "test_non_feather_file=np.load('20191005_NONFEATHER_Training_Points1.npy')\n",
    "#now go in and get the shapes of them#\n",
    "total_testing_points=np.shape(test_feather_file)[0]+np.shape(test_non_feather_file)[0]\n",
    "testing_data=np.zeros([total_testing_points,3,50])\n",
    "testing_data[0:np.shape(test_feather_file)[0],:,:]=test_feather_file\n",
    "testing_data[np.shape(test_feather_file)[0]:total_testing_points,:,:]=test_non_feather_file\n",
    "#create the labels vector#\n",
    "pos_labs=np.ones([np.shape(test_feather_file)[0],1])\n",
    "neg_labs=np.zeros([np.shape(test_non_feather_file)[0],1])\n",
    "#concatenate them#\n",
    "test_label_vector=np.concatenate((np.squeeze(pos_labs),np.squeeze(neg_labs)),axis=0)\n",
    "\n",
    "\n",
    "class FeatherPointClass(Dataset):\n",
    "    def __init__(self, training_data,labels, datatype, transform = transforms.Compose([transforms.ToTensor()])):\n",
    "        self.datatype = datatype\n",
    "        self.data=training_data\n",
    "\n",
    "        if self.datatype == 'train':\n",
    "            self.labels=labels\n",
    "        self.transform = transform\n",
    "\n",
    "\n",
    "    def __len__(self):\n",
    "        return len(self.data)\n",
    "    \n",
    "    def __getitem__(self, idx):\n",
    "        if self.datatype == 'train':\n",
    "            return np.reshape(training_data[idx,:,:],[training_data[0,:,:].size]),label_vector[idx]\n",
    "\n",
    "        if self.datatype == 'test':\n",
    "            return np.reshape(training_data[idx,:,:],[training_data[0,:,:].size]),test_label_vector[idx]\n",
    "  \n",
    "\n",
    "            \n"
   ]
  },
  {
   "cell_type": "code",
   "execution_count": null,
   "metadata": {},
   "outputs": [],
   "source": []
  },
  {
   "cell_type": "code",
   "execution_count": 2,
   "metadata": {},
   "outputs": [],
   "source": [
    "#now define the network#\n",
    "class FeatherNet(torch.nn.Module):\n",
    "    def __init__(self):\n",
    "        super(FeatherNet,self).__init__()\n",
    "        self.linear_layer1=torch.nn.Linear(in_features=150,out_features=128)\n",
    "        self.linear_layer2=torch.nn.Linear(in_features=128,out_features=64)\n",
    "        self.linear_layer3=torch.nn.Linear(in_features=64,out_features=32)\n",
    "        self.linear_layer4=torch.nn.Linear(in_features=32,out_features=16)\n",
    "        self.linear_layer5=torch.nn.Linear(in_features=16,out_features=1)\n",
    "        self.relu=torch.nn.LeakyReLU()\n",
    "#         self.linear_layer4=torch.nn.Linear(in_features=5,out_features=1)\n",
    "#         self.linear_layer5=torch.nn.Linear(in_features=30,out_features=1)\n",
    "\n",
    "\n",
    "    def forward(self,x):\n",
    "        x=self.linear_layer1(x)\n",
    "        x=self.relu(x)\n",
    "        x=self.linear_layer2(x)\n",
    "        x=self.relu(x)\n",
    "        x=self.linear_layer3(x)\n",
    "        x=self.relu(x)\n",
    "        x=self.linear_layer4(x)\n",
    "        x=self.relu(x)\n",
    "        x=self.linear_layer5(x)\n",
    "        return x\n",
    "    \n",
    "\n",
    "feather_model=FeatherNet()\n",
    "feather_model=feather_model.float()\n",
    "\n",
    "feather_train_class=FeatherPointClass(training_data=training_data,datatype='train',labels=label_vector)\n",
    "feather_test_class=FeatherPointClass(training_data=testing_data,datatype='test',labels=test_label_vector)\n",
    "\n",
    "\n",
    "train_loader = torch.utils.data.DataLoader(feather_train_class, batch_size=500, sampler=None,shuffle=True, num_workers=1)\n",
    "test_loader=torch.utils.data.DataLoader(feather_test_class,batch_size=500,num_workers=1,shuffle=True)\n",
    "\n",
    "\n",
    "\n",
    "criterion=torch.nn.BCEWithLogitsLoss()\n",
    "\n",
    "optimizer=torch.optim.Adam(feather_model.parameters(),lr=.001)#lr=0.00001 batch_size=300\n",
    "# scheduler = torch.optim.lr_scheduler.MultiStepLR(optimizer, milestones=[1800], gamma=0.1)\n",
    "\n",
    "loss=0\n",
    "loss_record=[]\n",
    "correct_record=[]\n",
    "pos_correct=[]\n",
    "neg_correct=[]\n",
    "\n",
    "for epoch in range(2):#600 \n",
    "    feather_model.train()\n",
    "    losses=[]\n",
    "\n",
    "\n",
    "    for batch_i,(point_vector,label) in enumerate(train_loader):\n",
    "        \n",
    "        optimizer.zero_grad()\n",
    "        z=point_vector.float()\n",
    "        out=feather_model(torch.squeeze(z))\n",
    "        loss=criterion(torch.squeeze(out),label.float())\n",
    "        loss.backward()\n",
    "        optimizer.step()\n",
    "    loss_record.append(loss)\n",
    "    \n",
    "#     now we want to evaluate the model#\n",
    "    with torch.no_grad():\n",
    "        feather_model.eval()\n",
    "        pos_correct_tmp=[]\n",
    "        neg_correct_tmp=[]\n",
    "        correct_record_tmp=[]\n",
    "        for batch_i,(point_vector,label) in enumerate(test_loader):\n",
    "            z=point_vector.float()\n",
    "            out=feather_model(torch.squeeze(z))\n",
    "            cat=torch.nn.Sigmoid()\n",
    "            cat1=cat(out)\n",
    "            cat1=cat1.data.numpy()\n",
    "            label1=label.data.numpy()\n",
    "            cat2=np.round(cat1-.65+.5)#the threshold is .75\n",
    "            test_add=np.squeeze(cat2)+label1\n",
    "            pos_pos=np.count_nonzero(test_add==2)\n",
    "            neg_neg=np.count_nonzero(test_add==0)\n",
    "            true_pos=np.count_nonzero(label1==1)\n",
    "            true_neg=np.count_nonzero(label1==0)\n",
    "            total_correct=neg_neg+pos_pos\n",
    "            correct_record_tmp.append(total_correct/len(cat2)*100)\n",
    "            pos_correct_tmp.append(pos_pos/true_pos*100)\n",
    "            neg_correct_tmp.append(neg_neg/true_neg*100)\n",
    "    pos_correct.append(np.mean(pos_correct_tmp))\n",
    "    neg_correct.append(np.mean(neg_correct_tmp))\n",
    "\n",
    "            "
   ]
  },
  {
   "cell_type": "code",
   "execution_count": null,
   "metadata": {},
   "outputs": [],
   "source": []
  },
  {
   "cell_type": "code",
   "execution_count": 4,
   "metadata": {},
   "outputs": [
    {
     "data": {
      "image/png": "[encoded data removed]",
      "text/plain": [
       "<Figure size 432x288 with 1 Axes>"
      ]
     },
     "metadata": {
      "needs_background": "light"
     },
     "output_type": "display_data"
    },
    {
     "data": {
      "image/png": "[encoded data removed]",
      "text/plain": [
       "<Figure size 432x288 with 1 Axes>"
      ]
     },
     "metadata": {
      "needs_background": "light"
     },
     "output_type": "display_data"
    },
    {
     "data": {
      "image/png": "[encoded data removed]",
      "text/plain": [
       "<Figure size 432x288 with 1 Axes>"
      ]
     },
     "metadata": {
      "needs_background": "light"
     },
     "output_type": "display_data"
    }
   ],
   "source": [
    "import matplotlib.pyplot as plt\n",
    "plt.plot(loss_record)\n",
    "plt.title('Loss')\n",
    "plt.show()\n",
    "\n",
    "plt.plot(pos_correct)\n",
    "plt.show()\n",
    "\n",
    "plt.plot(neg_correct)\n",
    "plt.show()\n"
   ]
  },
  {
   "cell_type": "code",
   "execution_count": 12,
   "metadata": {},
   "outputs": [
    {
     "name": "stdout",
     "output_type": "stream",
     "text": [
      "Vertices Acquired\n",
      "Set Made\n",
      "Sparse Vertices Acquired\n"
     ]
    }
   ],
   "source": [
    "import numpy as np\n",
    "from stl import mesh\n",
    "surface_mesh = mesh.Mesh.from_file('/Users/tylerthompson/Desktop/Research/Feather_Project/highdef_feather_cow.stl')\n",
    "[faces,v_points]=np.shape(surface_mesh)\n",
    "#go through there and get the points#\n",
    "vertex_coords=np.zeros([3*faces,3])\n",
    "for kk in range(0,3*faces,3):\n",
    "    #form the vector#\n",
    "    point_list=surface_mesh[np.int(kk/3),:]\n",
    "    point_list=np.reshape(point_list,[3,3])\n",
    "    vertex_coords[kk:kk+3,:]=point_list\n",
    "print(\"Vertices Acquired\")\n",
    "    #now remove duplicates#\n",
    "temp_vertices=set(tuple(x) for x in vertex_coords)\n",
    "print('Set Made')\n",
    "sparce_verts=np.array([list(x) for x in temp_vertices])\n",
    "print('Sparse Vertices Acquired')\n",
    "xs_ref=sparce_verts[0::4,0]\n",
    "ys_ref=sparce_verts[0::4,1]\n",
    "zs_ref=sparce_verts[0::4,2]\n",
    "del temp_vertices\n",
    "del sparce_verts\n",
    "import numpy\n",
    "from mayavi import mlab\n",
    "from mayavi.mlab import *\n"
   ]
  },
  {
   "cell_type": "code",
   "execution_count": 13,
   "metadata": {},
   "outputs": [
    {
     "name": "stdout",
     "output_type": "stream",
     "text": [
      "1145921\n"
     ]
    }
   ],
   "source": [
    "import pandas as pd\n",
    "from torch.utils.data import Dataset, DataLoader\n",
    "import os\n",
    "from skimage import io,transform\n",
    "from torchvision import transforms,utils\n",
    "import numpy as np\n",
    "import torch\n",
    "\n",
    "class FeatherNet(torch.nn.Module):\n",
    "    def __init__(self):\n",
    "        super(FeatherNet,self).__init__()\n",
    "        self.linear_layer1=torch.nn.Linear(in_features=150,out_features=128)\n",
    "        self.linear_layer2=torch.nn.Linear(in_features=128,out_features=64)\n",
    "        self.linear_layer3=torch.nn.Linear(in_features=64,out_features=32)\n",
    "        self.linear_layer4=torch.nn.Linear(in_features=32,out_features=16)\n",
    "        self.linear_layer5=torch.nn.Linear(in_features=16,out_features=1)\n",
    "        self.relu=torch.nn.LeakyReLU()\n",
    "#         self.linear_layer4=torch.nn.Linear(in_features=5,out_features=1)\n",
    "#         self.linear_layer5=torch.nn.Linear(in_features=30,out_features=1)\n",
    "\n",
    "\n",
    "    def forward(self,x):\n",
    "        x=self.linear_layer1(x)\n",
    "        x=self.relu(x)\n",
    "        x=self.linear_layer2(x)\n",
    "        x=self.relu(x)\n",
    "        x=self.linear_layer3(x)\n",
    "        x=self.relu(x)\n",
    "        x=self.linear_layer4(x)\n",
    "        x=self.relu(x)\n",
    "        x=self.linear_layer5(x)\n",
    "        return x\n",
    "    \n",
    "class FeatherPointClass(Dataset):\n",
    "    def __init__(self, training_data,labels, datatype, transform = transforms.Compose([transforms.ToTensor()])):\n",
    "        self.datatype = datatype\n",
    "        self.data=training_data\n",
    "\n",
    "        if self.datatype == 'train':\n",
    "            self.labels=labels\n",
    "        self.transform = transform\n",
    "\n",
    "\n",
    "    def __len__(self):\n",
    "        return len(self.data)\n",
    "    \n",
    "    def __getitem__(self, idx):\n",
    "        if self.datatype == 'train':\n",
    "            return np.reshape(training_data[idx,:,:],[training_data[0,:,:].size]),label_vector[idx]\n",
    "\n",
    "        if self.datatype == 'test':\n",
    "            return np.reshape(training_data[idx,:,:],[training_data[0,:,:].size]),test_label_vector[idx]\n",
    "  \n",
    "\n",
    "\n",
    "\n",
    "\n",
    "training_data=np.load('20191005_horus_surface_eval.npy')\n",
    "num_training_pts=np.shape(training_data)[0]\n",
    "label_vector=np.ones(np.shape(training_data)[0])\n",
    "feather_train_class=FeatherPointClass(training_data=training_data,datatype='train',labels=label_vector)\n",
    "train_loader = torch.utils.data.DataLoader(feather_train_class, batch_size=num_training_pts, sampler=None,shuffle=True, num_workers=1)\n",
    "print(num_training_pts)\n",
    "\n",
    "\n",
    "\n",
    "\n"
   ]
  },
  {
   "cell_type": "code",
   "execution_count": 14,
   "metadata": {},
   "outputs": [],
   "source": [
    "sig_layer=torch.nn.Sigmoid()\n",
    "# feather_model=torch.load('feather_model_cowV1.pt')\n",
    "for batch_i,(point_vector,label) in enumerate(train_loader):\n",
    "    feather_model.eval()\n",
    "    z=point_vector.float()\n",
    "    out=feather_model(torch.squeeze(z))\n",
    "    out=sig_layer(out)\n",
    "# now convert the predictions to numpy#\n",
    "predictions=out.data.numpy()\n",
    "pos_predictions=np.squeeze(np.where(predictions>0.7))[0]\n",
    "neg_predictions=np.squeeze(np.where(predictions<0.7))[0]\n",
    "\n",
    "\n",
    "scrambled_data=point_vector.data.numpy()\n",
    "scrambled_data=scrambled_data.reshape([len(pos_predictions)+len(neg_predictions),3,50])\n",
    "xs=scrambled_data[:,0,1]\n",
    "ys=scrambled_data[:,1,1]\n",
    "zs=scrambled_data[:,2,1]\n"
   ]
  },
  {
   "cell_type": "code",
   "execution_count": 15,
   "metadata": {},
   "outputs": [],
   "source": [
    "predicted_feather_xs=np.zeros([len(pos_predictions)])\n",
    "predicted_feather_ys=np.zeros([len(pos_predictions)])\n",
    "predicted_feather_zs=np.zeros([len(pos_predictions)])\n",
    "predicted_non_feather_xs=np.zeros([len(neg_predictions)])\n",
    "predicted_non_feather_ys=np.zeros([len(neg_predictions)])\n",
    "predicted_non_feather_zs=np.zeros([len(neg_predictions)])\n",
    "for jj in range(len(pos_predictions)):\n",
    "    predicted_feather_xs[jj]=xs[pos_predictions[jj]]\n",
    "    predicted_feather_ys[jj]=ys[pos_predictions[jj]]\n",
    "    predicted_feather_zs[jj]=zs[pos_predictions[jj]]\n",
    "for jj in range(len(neg_predictions)):\n",
    "    predicted_non_feather_xs[jj]=xs[neg_predictions[jj]]\n",
    "    predicted_non_feather_ys[jj]=ys[neg_predictions[jj]]\n",
    "    predicted_non_feather_zs[jj]=zs[neg_predictions[jj]]\n",
    "\n",
    "import numpy\n",
    "from mayavi import mlab\n",
    "from mayavi.mlab import *\n",
    "points3d(predicted_feather_xs,predicted_feather_ys,predicted_feather_zs,scale_factor=0.2,color=(0,1,0))\n",
    "points3d(predicted_non_feather_xs,predicted_non_feather_ys,predicted_non_feather_zs,color=(1,0,0),scale_factor=0.2)\n",
    "# points3d(xs_ref,ys_ref,zs_ref,color=(0,0,1),scale_factor=0.002)\n",
    "mlab.show()\n",
    "    \n",
    "    \n",
    "    \n",
    "    \n",
    "    \n",
    "    "
   ]
  },
  {
   "cell_type": "code",
   "execution_count": null,
   "metadata": {},
   "outputs": [],
   "source": [
    "\n",
    "\n"
   ]
  },
  {
   "cell_type": "code",
   "execution_count": null,
   "metadata": {},
   "outputs": [],
   "source": [
    "     "
   ]
  },
  {
   "cell_type": "code",
   "execution_count": null,
   "metadata": {},
   "outputs": [],
   "source": [
    "\n"
   ]
  },
  {
   "cell_type": "code",
   "execution_count": null,
   "metadata": {},
   "outputs": [],
   "source": [
    "\n",
    "\n"
   ]
  },
  {
   "cell_type": "code",
   "execution_count": 36,
   "metadata": {},
   "outputs": [],
   "source": []
  },
  {
   "cell_type": "code",
   "execution_count": null,
   "metadata": {},
   "outputs": [],
   "source": []
  },
  {
   "cell_type": "code",
   "execution_count": null,
   "metadata": {},
   "outputs": [],
   "source": []
  }
 ],
 "metadata": {
  "kernelspec": {
   "display_name": "Python 3",
   "language": "python",
   "name": "python3"
  },
  "language_info": {
   "codemirror_mode": {
    "name": "ipython",
    "version": 3
   },
   "file_extension": ".py",
   "mimetype": "text/x-python",
   "name": "python",
   "nbconvert_exporter": "python",
   "pygments_lexer": "ipython3",
   "version": "3.6.8"
  }
 },
 "nbformat": 4,
 "nbformat_minor": 2
}

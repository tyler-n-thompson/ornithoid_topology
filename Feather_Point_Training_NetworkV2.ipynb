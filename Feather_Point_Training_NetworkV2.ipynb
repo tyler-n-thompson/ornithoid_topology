{
 "cells": [
  {
   "cell_type": "code",
   "execution_count": 1,
   "metadata": {},
   "outputs": [],
   "source": [
    "import pandas as pd\n",
    "from torch.utils.data import Dataset, DataLoader\n",
    "import os\n",
    "from skimage import io,transform\n",
    "from torchvision import transforms,utils\n",
    "import numpy as np\n",
    "import torch\n",
    "\n",
    "#Edit the input data to be one large matrix, and then append a y for input#\n",
    "#####Prepare the Training Data from the Numpy Arrays#####\n",
    "#load the feather data#\n",
    "feather_file=np.load('Refined_CowFeather_TrainV1.npy')\n",
    "#load the non-feather points#\n",
    "non_feather_file=np.load('Refined_CowNOFeather_TrainV1.npy')\n",
    "#now go in and get the shapes of them#\n",
    "total_training_points=np.shape(feather_file)[0]+np.shape(non_feather_file)[0]\n",
    "training_data=np.zeros([total_training_points,3,10])\n",
    "training_data[0:np.shape(feather_file)[0],:,:]=feather_file\n",
    "training_data[np.shape(feather_file)[0]:total_training_points,:,:]=non_feather_file\n",
    "#create the labels vector#\n",
    "pos_labs=np.ones([np.shape(feather_file)[0],1])\n",
    "neg_labs=np.zeros([np.shape(non_feather_file)[0],1])\n",
    "#concatenate them#\n",
    "label_vector=np.concatenate((np.squeeze(pos_labs),np.squeeze(neg_labs)),axis=0)\n",
    "\n",
    "\n",
    "#####Prepare the Testing Data from the Numpy Arrays#####\n",
    "#load the feather data#\n",
    "test_feather_file=np.load('Refined_CowFeather_TrainV1.npy')\n",
    "#load the non-feather points#\n",
    "test_non_feather_file=np.load('Refined_CowNOFeather_TrainV1.npy')\n",
    "#now go in and get the shapes of them#\n",
    "total_testing_points=np.shape(test_feather_file)[0]+np.shape(test_non_feather_file)[0]\n",
    "testing_data=np.zeros([total_testing_points,3,10])\n",
    "testing_data[0:np.shape(test_feather_file)[0],:,:]=test_feather_file\n",
    "testing_data[np.shape(test_feather_file)[0]:total_testing_points,:,:]=test_non_feather_file\n",
    "#create the labels vector#\n",
    "pos_labs=np.ones([np.shape(test_feather_file)[0],1])\n",
    "neg_labs=np.zeros([np.shape(test_non_feather_file)[0],1])\n",
    "#concatenate them#\n",
    "test_label_vector=np.concatenate((np.squeeze(pos_labs),np.squeeze(neg_labs)),axis=0)\n",
    "\n",
    "\n",
    "class FeatherPointClass(Dataset):\n",
    "    def __init__(self, training_data,labels, datatype, transform = transforms.Compose([transforms.ToTensor()])):\n",
    "        self.datatype = datatype\n",
    "        self.data=training_data\n",
    "\n",
    "        if self.datatype == 'train':\n",
    "            self.labels=labels\n",
    "        self.transform = transform\n",
    "\n",
    "\n",
    "    def __len__(self):\n",
    "        return len(self.data)\n",
    "    \n",
    "    def __getitem__(self, idx):\n",
    "        if self.datatype == 'train':\n",
    "            return 100*np.reshape(training_data[idx,:,:],[training_data[0,:,:].size]),label_vector[idx]\n",
    "\n",
    "        if self.datatype == 'test':\n",
    "            return 100*np.reshape(training_data[idx,:,:],[training_data[0,:,:].size]),test_label_vector[idx]\n",
    "  \n",
    "\n",
    "            \n"
   ]
  },
  {
   "cell_type": "code",
   "execution_count": 32,
   "metadata": {},
   "outputs": [],
   "source": [
    "#now define the network#\n",
    "class FeatherNet(torch.nn.Module):\n",
    "    def __init__(self):\n",
    "        super(FeatherNet,self).__init__()\n",
    "        self.linear_layer1=torch.nn.Linear(in_features=30,out_features=20)\n",
    "        self.linear_layer2=torch.nn.Linear(in_features=20,out_features=10)\n",
    "        self.linear_layer3=torch.nn.Linear(in_features=10,out_features=1)\n",
    "        self.relu=torch.nn.LeakyReLU()\n",
    "#         self.linear_layer4=torch.nn.Linear(in_features=5,out_features=1)\n",
    "#         self.linear_layer5=torch.nn.Linear(in_features=30,out_features=1)\n",
    "\n",
    "\n",
    "    def forward(self,x):\n",
    "        x=self.linear_layer1(x)\n",
    "        x=self.relu(x)\n",
    "        x=self.linear_layer2(x)\n",
    "        x=self.relu(x)\n",
    "        x=self.linear_layer3(x)\n",
    "#         x=self.linear_layer4(x)\n",
    "#         x=self.linear_layer5(x)\n",
    "        return x\n",
    "    \n",
    "\n",
    "feather_model=FeatherNet()\n",
    "feather_model=feather_model.float()\n",
    "\n",
    "feather_train_class=FeatherPointClass(training_data=training_data,datatype='train',labels=label_vector)\n",
    "feather_test_class=FeatherPointClass(training_data=testing_data,datatype='test',labels=test_label_vector)\n",
    "\n",
    "\n",
    "train_loader = torch.utils.data.DataLoader(feather_train_class, batch_size=500, sampler=None,shuffle=False, num_workers=1)\n",
    "test_loader=torch.utils.data.DataLoader(feather_test_class,batch_size=500,num_workers=1,shuffle=True)\n",
    "\n",
    "\n",
    "\n",
    "criterion=torch.nn.BCEWithLogitsLoss()\n",
    "\n",
    "optimizer=torch.optim.Adam(feather_model.parameters(),lr=.003)#lr=0.00001 batch_size=300\n",
    "scheduler = torch.optim.lr_scheduler.MultiStepLR(optimizer, milestones=[2000,2500], gamma=0.1)\n",
    "\n",
    "loss=0\n",
    "loss_record=[]\n",
    "correct_record=[]\n",
    "pos_correct=[]\n",
    "neg_correct=[]\n",
    "\n",
    "for epoch in range(2500):\n",
    "    feather_model.train()\n",
    "    losses=[]\n",
    "\n",
    "\n",
    "    for batch_i,(point_vector,label) in enumerate(train_loader):\n",
    "        optimizer.zero_grad()\n",
    "        z=point_vector.float()\n",
    "        out=feather_model(torch.squeeze(z))\n",
    "        loss=criterion(torch.squeeze(out),label.float())\n",
    "        loss.backward()\n",
    "        optimizer.step()\n",
    "        scheduler.step()\n",
    "    loss_record.append(loss)\n",
    "    \n",
    "#     now we want to evaluate the model#\n",
    "    with torch.no_grad():\n",
    "        feather_model.eval()\n",
    "        pos_correct_tmp=[]\n",
    "        neg_correct_tmp=[]\n",
    "        correct_record_tmp=[]\n",
    "        for batch_i,(point_vector,label) in enumerate(test_loader):\n",
    "            z=point_vector.float()\n",
    "            out=feather_model(torch.squeeze(z))\n",
    "            cat=torch.nn.Sigmoid()\n",
    "            cat1=cat(out)\n",
    "            cat1=cat1.data.numpy()\n",
    "            label1=label.data.numpy()\n",
    "            cat2=np.round(cat1-.65+.5)#the threshold is .75\n",
    "            test_add=np.squeeze(cat2)+label1\n",
    "            pos_pos=np.count_nonzero(test_add==2)\n",
    "            neg_neg=np.count_nonzero(test_add==0)\n",
    "            true_pos=np.count_nonzero(label1==1)\n",
    "            true_neg=np.count_nonzero(label1==0)\n",
    "            total_correct=neg_neg+pos_pos\n",
    "            correct_record_tmp.append(total_correct/len(cat2)*100)\n",
    "            pos_correct_tmp.append(pos_pos/true_pos*100)\n",
    "            neg_correct_tmp.append(neg_neg/true_neg*100)\n",
    "    pos_correct.append(np.mean(pos_correct_tmp))\n",
    "    neg_correct.append(np.mean(neg_correct_tmp))\n",
    "\n",
    "#             "
   ]
  },
  {
   "cell_type": "code",
   "execution_count": 33,
   "metadata": {},
   "outputs": [
    {
     "data": {
      "image/png": "[encoded data removed]",
      "text/plain": [
       "<Figure size 432x288 with 1 Axes>"
      ]
     },
     "metadata": {
      "needs_background": "light"
     },
     "output_type": "display_data"
    },
    {
     "data": {
      "image/png": "[encoded data removed]",
      "text/plain": [
       "<Figure size 432x288 with 1 Axes>"
      ]
     },
     "metadata": {
      "needs_background": "light"
     },
     "output_type": "display_data"
    },
    {
     "data": {
      "image/png": "[encoded data removed]",
      "text/plain": [
       "<Figure size 432x288 with 1 Axes>"
      ]
     },
     "metadata": {
      "needs_background": "light"
     },
     "output_type": "display_data"
    }
   ],
   "source": [
    "import matplotlib.pyplot as plt\n",
    "plt.plot(loss_record)\n",
    "plt.title('Loss')\n",
    "plt.show()\n",
    "\n",
    "plt.plot(pos_correct)\n",
    "plt.show()\n",
    "\n",
    "plt.plot(neg_correct)\n",
    "plt.show()\n"
   ]
  },
  {
   "cell_type": "code",
   "execution_count": 41,
   "metadata": {},
   "outputs": [
    {
     "name": "stderr",
     "output_type": "stream",
     "text": [
      "/anaconda3/lib/python3.6/site-packages/torch/serialization.py:250: UserWarning: Couldn't retrieve source code for container of type FeatherNet. It won't be checked for correctness upon loading.\n",
      "  \"type \" + obj.__name__ + \". It won't be checked \"\n"
     ]
    }
   ],
   "source": [
    "sig_layer=torch.nn.Sigmoid()\n",
    "torch.save(feather_model,'feather_model_cowV1.pt')\n",
    "loaded_feather_model=torch.load('feather_model_cowV1.pt')\n",
    "feather_train_class=FeatherPointClass(training_data=training_data,datatype='train',labels=label_vector)\n",
    "train_loader = torch.utils.data.DataLoader(feather_train_class, batch_size=500, sampler=None,shuffle=False, num_workers=1)\n",
    "for batch_i,(point_vector,label) in enumerate(train_loader):\n",
    "    loaded_feather_model.eval()\n",
    "    z=point_vector.float()\n",
    "    out=feather_model(torch.squeeze(z))\n",
    "    out=sig_layer(out)\n",
    "    \n",
    "\n",
    "\n"
   ]
  },
  {
   "cell_type": "code",
   "execution_count": null,
   "metadata": {},
   "outputs": [],
   "source": []
  },
  {
   "cell_type": "code",
   "execution_count": 76,
   "metadata": {},
   "outputs": [],
   "source": []
  },
  {
   "cell_type": "code",
   "execution_count": 12,
   "metadata": {},
   "outputs": [],
   "source": [
    "\n"
   ]
  },
  {
   "cell_type": "code",
   "execution_count": null,
   "metadata": {},
   "outputs": [],
   "source": []
  },
  {
   "cell_type": "code",
   "execution_count": null,
   "metadata": {},
   "outputs": [],
   "source": []
  }
 ],
 "metadata": {
  "kernelspec": {
   "display_name": "Python 3",
   "language": "python",
   "name": "python3"
  },
  "language_info": {
   "codemirror_mode": {
    "name": "ipython",
    "version": 3
   },
   "file_extension": ".py",
   "mimetype": "text/x-python",
   "name": "python",
   "nbconvert_exporter": "python",
   "pygments_lexer": "ipython3",
   "version": "3.6.8"
  }
 },
 "nbformat": 4,
 "nbformat_minor": 2
}
